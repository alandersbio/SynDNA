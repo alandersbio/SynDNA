{
 "cells": [
  {
   "cell_type": "markdown",
   "metadata": {},
   "source": [
    "### Script used to generate random DNA sequences with different GC%"
   ]
  },
  {
   "cell_type": "code",
   "execution_count": 1,
   "metadata": {
    "collapsed": true
   },
   "outputs": [
    {
     "name": "stderr",
     "output_type": "stream",
     "text": [
      "Loading required package: BiocGenerics\n",
      "\n",
      "Loading required package: parallel\n",
      "\n",
      "\n",
      "Attaching package: ‘BiocGenerics’\n",
      "\n",
      "\n",
      "The following objects are masked from ‘package:parallel’:\n",
      "\n",
      "    clusterApply, clusterApplyLB, clusterCall, clusterEvalQ,\n",
      "    clusterExport, clusterMap, parApply, parCapply, parLapply,\n",
      "    parLapplyLB, parRapply, parSapply, parSapplyLB\n",
      "\n",
      "\n",
      "The following objects are masked from ‘package:stats’:\n",
      "\n",
      "    IQR, mad, sd, var, xtabs\n",
      "\n",
      "\n",
      "The following objects are masked from ‘package:base’:\n",
      "\n",
      "    anyDuplicated, append, as.data.frame, basename, cbind, colnames,\n",
      "    dirname, do.call, duplicated, eval, evalq, Filter, Find, get, grep,\n",
      "    grepl, intersect, is.unsorted, lapply, Map, mapply, match, mget,\n",
      "    order, paste, pmax, pmax.int, pmin, pmin.int, Position, rank,\n",
      "    rbind, Reduce, rownames, sapply, setdiff, sort, table, tapply,\n",
      "    union, unique, unsplit, which, which.max, which.min\n",
      "\n",
      "\n",
      "Loading required package: S4Vectors\n",
      "\n",
      "Loading required package: stats4\n",
      "\n",
      "\n",
      "Attaching package: ‘S4Vectors’\n",
      "\n",
      "\n",
      "The following object is masked from ‘package:base’:\n",
      "\n",
      "    expand.grid\n",
      "\n",
      "\n",
      "Loading required package: IRanges\n",
      "\n",
      "Loading required package: XVector\n",
      "\n",
      "\n",
      "Attaching package: ‘Biostrings’\n",
      "\n",
      "\n",
      "The following object is masked from ‘package:seqinr’:\n",
      "\n",
      "    translate\n",
      "\n",
      "\n",
      "The following object is masked from ‘package:base’:\n",
      "\n",
      "    strsplit\n",
      "\n",
      "\n"
     ]
    }
   ],
   "source": [
    "### Libraries\n",
    "\n",
    "library(RCurl)\n",
    "library(seqinr)\n",
    "library(Biostrings)"
   ]
  },
  {
   "cell_type": "markdown",
   "metadata": {},
   "source": [
    "##### Creating function using Biostrings package"
   ]
  },
  {
   "cell_type": "code",
   "execution_count": 2,
   "metadata": {},
   "outputs": [],
   "source": [
    "generateSeqs <- function(size,gc,number){\n",
    "    probGC = c((1 - gc)/2,(1 - gc)/2,gc/2,gc/2) ## Setting up the proportion of each nucleotide\n",
    "    names_file_seq <- paste0(\"seq_\", \"gc-\", gc, \"_n=\", number) ## Naming the output file\n",
    "\n",
    "    for(i in 1:number){ ## The loop will repeat as many time as the user set up\n",
    "        seq_nt <- sample(c(\"A\", \"T\", \"C\", \"G\"), size, replace = TRUE, prob = probGC)\n",
    "        ds_seq_nt <- DNAString(paste(seq_nt, collapse=\"\"))\n",
    "        ds_seq_nt_set <- DNAStringSet(ds_seq_nt)        \n",
    "        names(ds_seq_nt_set) <- paste0(\"seq_\", i, \"_gc=\", gc)  ## Naming each individual sequence\n",
    "        writeXStringSet(ds_seq_nt_set, paste0(names_file_seq, \".fasta\"), format = 'fasta', append=TRUE)\n",
    "    }\n",
    "}"
   ]
  },
  {
   "cell_type": "markdown",
   "metadata": {},
   "source": [
    "##### Use function to generate random sequences"
   ]
  },
  {
   "cell_type": "code",
   "execution_count": 19,
   "metadata": {
    "collapsed": true
   },
   "outputs": [],
   "source": [
    "## One single file with all the random seqeunces per GC% will be generate.\n",
    "## The sequences can be used for downstream steps, like sequence similarity analysis. \n",
    "\n",
    "generateSeqs(size=2000, gc=0.26, number=10000)\n",
    "generateSeqs(size=2000, gc=0.36, number=10000)\n",
    "generateSeqs(size=2000, gc=0.46, number=10000)\n",
    "generateSeqs(size=2000, gc=0.56, number=10000)\n",
    "generateSeqs(size=2000, gc=0.66, number=10000)\n"
   ]
  }
 ],
 "metadata": {
  "kernelspec": {
   "display_name": "R",
   "language": "R",
   "name": "ir"
  },
  "language_info": {
   "codemirror_mode": "r",
   "file_extension": ".r",
   "mimetype": "text/x-r-source",
   "name": "R",
   "pygments_lexer": "r",
   "version": "3.6.3"
  }
 },
 "nbformat": 4,
 "nbformat_minor": 1
}
