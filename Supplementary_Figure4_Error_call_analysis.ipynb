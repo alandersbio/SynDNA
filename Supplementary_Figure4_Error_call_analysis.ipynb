{
 "cells": [
  {
   "cell_type": "code",
   "execution_count": 1,
   "metadata": {
    "collapsed": true
   },
   "outputs": [
    {
     "name": "stderr",
     "output_type": "stream",
     "text": [
      "\n",
      "Attaching package: ‘reshape2’\n",
      "\n",
      "\n",
      "The following objects are masked from ‘package:data.table’:\n",
      "\n",
      "    dcast, melt\n",
      "\n",
      "\n",
      "\n",
      "Attaching package: ‘ggpmisc’\n",
      "\n",
      "\n",
      "The following object is masked from ‘package:ggplot2’:\n",
      "\n",
      "    annotate\n",
      "\n",
      "\n"
     ]
    }
   ],
   "source": [
    "#Libraries\n",
    "library(data.table)\n",
    "library(reshape2)\n",
    "library(ggplot2)\n",
    "library(RColorBrewer)\n",
    "library(ggpmisc)\n",
    "library(scales)"
   ]
  },
  {
   "cell_type": "code",
   "execution_count": 2,
   "metadata": {},
   "outputs": [],
   "source": [
    "dfalllibs <- read.delim(\"data/dfmeansd_strand_dilutions.tsv\", h=T)"
   ]
  },
  {
   "cell_type": "code",
   "execution_count": null,
   "metadata": {},
   "outputs": [],
   "source": [
    "options(repr.plot.width=18, repr.plot.height=10)\n",
    "\n",
    "ggplot(dfalllibs, aes(MeanRatio, GC)) +\n",
    "  geom_point(shape = 15, size = 3) +\n",
    "  geom_errorbar(aes(xmin=MeanRatio-StdRatio, xmax=MeanRatio+StdRatio), width=.3,position=position_dodge(0.05)) +\n",
    "  facet_wrap(~ Sample+Strand, ncol = 6) +\n",
    "  geom_smooth(method = \"lm\", color=\"red\", formula = y~poly(x, 2)) +\n",
    "  stat_poly_eq(formula = y~poly(x, 2), aes(label = ..rr.label..), \n",
    "               parse=TRUE, label.x.npc = \"right\",, size = 5) +\n",
    "  stat_fit_glance(method = 'lm', geom = 'text', aes(label = paste0('p = ', format(..p.value.., 3))), \n",
    "                  label.x = 6, label.y = 60, size = 5) + \n",
    "  labs(y = \"GC content\", x = \"Base Call Error Rate\") +\n",
    "  guides(colour = guide_legend(override.aes = list(size=5))) +\n",
    "  theme_bw() + guides(fill=guide_legend(ncol=1))  +\n",
    "  theme(panel.border = element_rect(colour = \"black\", fill=NA, size=1),\n",
    "        axis.text.x = element_text(angle = 0, hjust = 1, vjust = 0.5, size = 16, face = \"bold\", colour = \"black\"),\n",
    "        axis.text.y = element_text(angle = 0, size = 16, face = \"bold\", colour = \"black\"),\n",
    "        axis.title=element_text(size=20, face = \"bold\", colour = \"black\"),\n",
    "        strip.text.x = element_text(size = 16, face = \"bold\", colour = \"black\"),\n",
    "        strip.background = element_rect(fill=\"white\"),\n",
    "        legend.title=element_blank())"
   ]
  }
 ],
 "metadata": {
  "kernelspec": {
   "display_name": "R",
   "language": "R",
   "name": "ir"
  },
  "language_info": {
   "codemirror_mode": "r",
   "file_extension": ".r",
   "mimetype": "text/x-r-source",
   "name": "R",
   "pygments_lexer": "r",
   "version": "3.6.3"
  }
 },
 "nbformat": 4,
 "nbformat_minor": 4
}
